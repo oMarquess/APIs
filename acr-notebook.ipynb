{
  "nbformat": 4,
  "nbformat_minor": 0,
  "metadata": {
    "colab": {
      "provenance": [],
      "authorship_tag": "ABX9TyMtUGshU0lQJoi2M3M6WhR5",
      "include_colab_link": true
    },
    "kernelspec": {
      "name": "python3",
      "display_name": "Python 3"
    },
    "language_info": {
      "name": "python"
    }
  },
  "cells": [
    {
      "cell_type": "markdown",
      "metadata": {
        "id": "view-in-github",
        "colab_type": "text"
      },
      "source": [
        "<a href=\"https://colab.research.google.com/github/oMarquess/APIs/blob/master/acr-notebook.ipynb\" target=\"_parent\"><img src=\"https://colab.research.google.com/assets/colab-badge.svg\" alt=\"Open In Colab\"/></a>"
      ]
    },
    {
      "cell_type": "code",
      "execution_count": 1,
      "metadata": {
        "id": "0SQyZHRwIa0q"
      },
      "outputs": [],
      "source": [
        "import pandas as pd"
      ]
    },
    {
      "cell_type": "code",
      "source": [
        "df = pd.csv()\n",
        "\n",
        "def search_hospitals_by_rank(df, rank):\n",
        "    # Filter the DataFrame to get rows with the specified rank\n",
        "    result_df = df[df['rank'] == rank]\n",
        "    return result_df\n",
        "\n",
        "# Example usage:\n",
        "rank_to_search = 2\n",
        "matching_hospitals = search_hospitals_by_rank(df, rank_to_search)\n",
        "print(matching_hospitals)\n"
      ],
      "metadata": {
        "id": "LPY-5fb_IoDL"
      },
      "execution_count": null,
      "outputs": []
    }
  ]
}