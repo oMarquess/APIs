{
  "nbformat": 4,
  "nbformat_minor": 0,
  "metadata": {
    "colab": {
      "provenance": [],
      "gpuType": "T4",
      "authorship_tag": "ABX9TyO2FSqfwxrPhNM1Y6I3Ix6a",
      "include_colab_link": true
    },
    "kernelspec": {
      "name": "python3",
      "display_name": "Python 3"
    },
    "language_info": {
      "name": "python"
    },
    "accelerator": "GPU"
  },
  "cells": [
    {
      "cell_type": "markdown",
      "metadata": {
        "id": "view-in-github",
        "colab_type": "text"
      },
      "source": [
        "<a href=\"https://colab.research.google.com/github/oMarquess/APIs/blob/master/Tutorial.ipynb\" target=\"_parent\"><img src=\"https://colab.research.google.com/assets/colab-badge.svg\" alt=\"Open In Colab\"/></a>"
      ]
    },
    {
      "cell_type": "markdown",
      "source": [
        "### Introduction\n"
      ],
      "metadata": {
        "id": "8xqQtBv4Uhls"
      }
    },
    {
      "cell_type": "code",
      "execution_count": null,
      "metadata": {
        "id": "NFyw6ddOUSV6"
      },
      "outputs": [],
      "source": []
    },
    {
      "cell_type": "code",
      "source": [
        "from google.colab import drive\n",
        "drive.mount('/content/drive')"
      ],
      "metadata": {
        "id": "8c-n2WInVpWZ"
      },
      "execution_count": null,
      "outputs": []
    },
    {
      "cell_type": "markdown",
      "source": [
        "### Ingestion"
      ],
      "metadata": {
        "id": "f9CsG-P0Un1X"
      }
    },
    {
      "cell_type": "code",
      "source": [],
      "metadata": {
        "id": "VRQ7u2ieU28a"
      },
      "execution_count": null,
      "outputs": []
    },
    {
      "cell_type": "markdown",
      "source": [
        "### EDA"
      ],
      "metadata": {
        "id": "WALf-wwiUsZT"
      }
    },
    {
      "cell_type": "code",
      "source": [],
      "metadata": {
        "id": "cVWnAjmgU3mK"
      },
      "execution_count": null,
      "outputs": []
    },
    {
      "cell_type": "markdown",
      "source": [
        "### ML Proper"
      ],
      "metadata": {
        "id": "A2HVTlSwUvPY"
      }
    },
    {
      "cell_type": "code",
      "source": [],
      "metadata": {
        "id": "OQ22CNncU4jm"
      },
      "execution_count": null,
      "outputs": []
    },
    {
      "cell_type": "markdown",
      "source": [
        "### Conclusion"
      ],
      "metadata": {
        "id": "4Ht_Q2dmUypy"
      }
    },
    {
      "cell_type": "code",
      "source": [],
      "metadata": {
        "id": "-K7aQmjHU1Aa"
      },
      "execution_count": null,
      "outputs": []
    }
  ]
}